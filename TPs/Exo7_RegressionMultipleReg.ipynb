{
 "cells": [
  {
   "cell_type": "markdown",
   "metadata": {},
   "source": [
    "# EXERCICE 7 : REGRESSION LINEAIRE MULTIPLE AVEC REGULARISATION + VALIDATION CROISEE\n",
    "\n",
    "\n",
    "Inspire de http://scikit-learn.org/stable/auto_examples/linear_model/plot_lasso_and_elasticnet.html\n"
   ]
  },
  {
   "cell_type": "code",
   "execution_count": 1,
   "metadata": {},
   "outputs": [],
   "source": [
    "\n",
    "import numpy as np\n",
    "import matplotlib.pyplot as plt\n",
    "\n",
    "from sklearn.metrics import mean_squared_error\n"
   ]
  },
  {
   "cell_type": "markdown",
   "metadata": {},
   "source": [
    "#### Génération de donnée synthétiques..."
   ]
  },
  {
   "cell_type": "code",
   "execution_count": null,
   "metadata": {},
   "outputs": [],
   "source": [
    "\n",
    "np.random.seed(31)\n",
    "\n",
    "#... definition de n et p\n",
    "n = 75\n",
    "p =  200   #remarque : n<200 => necessite de selectionner des variables\n",
    "\n",
    "#... simulation de X\n",
    "X = np.random.randn(n, p) #remarque : on ne tient pas en compte les $beta_0$\n",
    "\n",
    "#... generation du vecteur beta dans lequel seules 10 valeurs sont non-nulles\n",
    "beta = 3 * np.random.randn(p)\n",
    "inds = np.arange(p)\n",
    "np.random.shuffle(inds)\n",
    "beta[inds[10:]] = 0 \n",
    "\n",
    "#... simulation de y \n",
    "y = np.dot(X, beta) + (2.0 * np.random.normal(size=n))\n",
    "\n",
    "\n",
    "# REMARQUE IMPORTANTE : y ne dépend que des variables i pour lesquelles beta[i] est non-nul\n",
    "\n",
    "\n",
    "# ... coupe en deux les donnees en donnees d'apprentissage et donnes test\n",
    "thresh=n // 2\n",
    "X_train = X[thresh:]\n",
    "y_train = y[thresh:]\n",
    "X_test = X[:thresh]\n",
    "y_test = y[:thresh]\n"
   ]
  },
  {
   "cell_type": "markdown",
   "metadata": {},
   "source": [
    "#### Régression linéaire avec régularisation Lasso ...\n"
   ]
  },
  {
   "cell_type": "code",
   "execution_count": null,
   "metadata": {},
   "outputs": [],
   "source": [
    "\n",
    "from sklearn.linear_model import Lasso\n",
    "\n",
    "alpha = 0.5\n",
    "lasso_regressor = Lasso(alpha=alpha)\n",
    "lasso_regressor.fit(X_train, y_train)\n",
    "\n",
    "y_pred_lasso = lasso_regressor.predict(X_test)\n",
    "mse_score_lasso = mean_squared_error(y_test, y_pred_lasso)\n"
   ]
  },
  {
   "cell_type": "markdown",
   "metadata": {},
   "source": [
    "####  Représentation du résultat\n"
   ]
  },
  {
   "cell_type": "code",
   "execution_count": null,
   "metadata": {},
   "outputs": [],
   "source": [
    "fig = plt.figure()\n",
    "plt.plot(y_test, y_pred_lasso, 'r.')\n",
    "plt.xlabel('True value')\n",
    "plt.ylabel('Predicted value')\n",
    "plt.title('True vs predicted value (mse='+str(mse_score_lasso)+')')\n",
    "plt.show()\n",
    "\n"
   ]
  },
  {
   "cell_type": "code",
   "execution_count": null,
   "metadata": {},
   "outputs": [],
   "source": [
    "\n",
    "fig = plt.figure()\n",
    "plt.plot(lasso_regressor.coef_, 'r.')\n",
    "plt.plot(beta, 'b.')\n",
    "plt.legend(('Beta estime', 'Beta reel'), loc='lower right')\n",
    "plt.title('Coefficients de beta')\n",
    "plt.show()\n"
   ]
  },
  {
   "cell_type": "markdown",
   "metadata": {},
   "source": [
    "\n",
    "### <span style=\"color:blue\">QUESTION 1</span> :\n",
    "\n",
    "Jouez l'exemple avec  n=1000, n=100, n=75, n=50, n=25. Qu'en deduisez vous sur l'impact du nombre d'observations\n",
    "\n",
    "### <span style=\"color:blue\">REPONSE 1</span> :\n",
    "\n",
    "...\n"
   ]
  },
  {
   "cell_type": "markdown",
   "metadata": {},
   "source": [
    "\n",
    "### <span style=\"color:blue\">QUESTION 2</span> :\n",
    "\n",
    "On garde n=75. Utilisez la validation croisee de type K-folds (typiquement 8-Folds) pour trouver le meilleur coefficient *alpha* au sens de la MSE. Pour chaque *alpha* testé, on gardera comme score la MSE moyenne obtenue sur tous les *folds*.\n",
    "\n",
    "Remarque : la recherche d'un bon coefficient *alpha* pourra d'abord se faire sur une échelle exponentielle assez large (ex: 0.001, 0.01, 0.1, ...) puis être raffinée sur une échelle plus fine.  \n",
    "\n",
    "### <span style=\"color:blue\">REPONSE 2</span> :"
   ]
  },
  {
   "cell_type": "code",
   "execution_count": null,
   "metadata": {},
   "outputs": [],
   "source": [
    "\n",
    "from sklearn.model_selection import KFold\n",
    "\n",
    "#...\n",
    "\n",
    "\n",
    "\n"
   ]
  },
  {
   "cell_type": "code",
   "execution_count": null,
   "metadata": {},
   "outputs": [],
   "source": [
    "#représentation des coefficients estimés (lasso_regressor.coef_) et de ceux\n",
    "#avec lesquels les données ont été simulées (beta)\n",
    "\n",
    "fig = plt.figure()\n",
    "plt.plot(lasso_regressor.coef_, 'r.')\n",
    "plt.plot(beta, 'b.')\n",
    "plt.legend(('Beta estime', 'Beta reel'), loc='lower right')\n",
    "plt.title('Coefficients de beta')\n",
    "plt.show()"
   ]
  },
  {
   "cell_type": "markdown",
   "metadata": {},
   "source": [
    "\n",
    "### <span style=\"color:blue\">QUESTION 3</span> :\n",
    "\n",
    "De manère alternative, codez et testez maintenant une sélection de type *forward* avec un critère de sélection *BIC*.\n",
    "\n",
    "Comparez les résultats avec ceux obtenus à l'aide de la pénalisation LASSO.\n",
    "\n",
    "### <span style=\"color:blue\">REPONSE 3</span> :\n"
   ]
  },
  {
   "cell_type": "code",
   "execution_count": null,
   "metadata": {},
   "outputs": [],
   "source": [
    "\n",
    "\n",
    "from sklearn.linear_model import LinearRegression\n",
    "\n",
    "#...\n",
    "\n"
   ]
  },
  {
   "cell_type": "code",
   "execution_count": null,
   "metadata": {},
   "outputs": [],
   "source": []
  }
 ],
 "metadata": {
  "anaconda-cloud": {},
  "kernelspec": {
   "display_name": "myenv",
   "language": "python",
   "name": "python3"
  },
  "language_info": {
   "codemirror_mode": {
    "name": "ipython",
    "version": 3
   },
   "file_extension": ".py",
   "mimetype": "text/x-python",
   "name": "python",
   "nbconvert_exporter": "python",
   "pygments_lexer": "ipython3",
   "version": "3.12.11"
  }
 },
 "nbformat": 4,
 "nbformat_minor": 4
}
