{
 "cells": [
  {
   "cell_type": "code",
   "execution_count": 2,
   "metadata": {},
   "outputs": [],
   "source": [
    "import numpy as np\n",
    "import matplotlib.pyplot as plt\n",
    "\n",
    "from sklearn.linear_model import LinearRegression"
   ]
  },
  {
   "cell_type": "markdown",
   "metadata": {},
   "source": [
    "\n",
    "## Exercice 4 : impact et detection d'outliers\n",
    "\n"
   ]
  },
  {
   "cell_type": "code",
   "execution_count": 27,
   "metadata": {},
   "outputs": [
    {
     "name": "stdout",
     "output_type": "stream",
     "text": [
      "b_0=5.44732367147143 et b_1=5.33223478201434\n"
     ]
    },
    {
     "data": {
      "image/png": "[encoded data removed]",
      "text/plain": [
       "<Figure size 640x480 with 1 Axes>"
      ]
     },
     "metadata": {},
     "output_type": "display_data"
    }
   ],
   "source": [
    "#generation de donnees test\n",
    "def generate_data(n_samples, outlier=False, b_1=4.):\n",
    "    x = np.arange(n_samples)\n",
    "    y = 10. + b_1*x + np.random.randn(n_samples)*3.\n",
    "    if outlier:\n",
    "        y[-1] += 20\n",
    "    return x, y\n",
    "\n",
    "def s2(y_true, y_pred):\n",
    "    n = len(y_true)\n",
    "    SSE = np.sum((y_true - y_pred)**2)\n",
    "    return SSE / (n-1)\n",
    "\n",
    "\n",
    "x, y = generate_data(n_samples=10, outlier=True)\n",
    "# instanciation de sklearn.linear_model.LinearRegression\n",
    "lr = LinearRegression()\n",
    "lr.fit(x[:, np.newaxis], y)  # np.newaxis est utilise car x doit etre une matrice 2d avec 'LinearRegression'\n",
    "\n",
    "# representation du resultat\n",
    "\n",
    "print('b_0='+str(lr.intercept_)+' et b_1='+str(lr.coef_[0]))\n",
    "\n",
    "fig = plt.figure()\n",
    "plt.plot(x, y, 'r.')\n",
    "plt.plot(x, lr.predict(x[:, np.newaxis]), 'b-')\n",
    "plt.legend(('Data', 'Linear Fit'), loc='lower right')\n",
    "plt.title('Linear regression')\n",
    "plt.show()"
   ]
  },
  {
   "cell_type": "markdown",
   "metadata": {},
   "source": [
    "\n",
    "### <span style=\"color:blue\">QUESTION 4.1 :</span> \n",
    "\n",
    "\n",
    "Remarquons que la ligne 'y[9]=y[9]+20' génere artificiellement une donnée aberrante.\n",
    "\n",
    "Tester l'impact de la donnée aberrante en estimant b_0, b_1 et s^2 sur \n",
    "- 5 jeux de données générés comme dans la cellule précédente et\n",
    "- 5 autres jeux aussi générés suivant cette méthode, mais sans la données aberrant (simplement ne pas executer la ligne y[9]=y[9]+20).\n",
    "\n",
    "On remarque que $\\beta_0 = 10$, $\\beta_1 = 4$ et $\\sigma=3$ dans les données simulees.\n"
   ]
  },
  {
   "cell_type": "markdown",
   "metadata": {},
   "source": [
    "### <span style=\"color:blue\">REPONSE 4.1 :</span> \n",
    "\n"
   ]
  },
  {
   "cell_type": "code",
   "execution_count": null,
   "metadata": {},
   "outputs": [
    {
     "name": "stdout",
     "output_type": "stream",
     "text": [
      "b_0=5.663485622692868 et b_1=5.518163411002897 et s2=32.66193520911535\n",
      "b_0=8.96091044252163 et b_1=4.586444395944223 et s2=31.328289898974113\n",
      "b_0=4.752238538754181 et b_1=5.461092059967633 et s2=53.91412553879402\n",
      "b_0=4.793782299966072 et b_1=5.319283522463286 et s2=29.84443298002992\n",
      "b_0=7.320590754707251 et b_1=5.235767221997859 et s2=34.43755771361494\n",
      "b_0=11.28100419401662 et b_1=3.6580116054477196 et s2=9.402143578563502\n",
      "b_0=8.839030818309041 et b_1=4.234015239155198 et s2=13.978959395391147\n",
      "b_0=11.563349076662316 et b_1=3.8309054745353253 et s2=11.010603318564753\n",
      "b_0=11.491759700358703 et b_1=3.9664599624294197 et s2=15.113121950896439\n",
      "b_0=9.73567886639007 et b_1=4.084472183176642 et s2=7.110427548283919\n"
     ]
    }
   ],
   "source": [
    "def print_score(outl = False):\n",
    "    x, y = generate_data(n_samples=10, outlier = outl)\n",
    "    lr.fit(x[:, np.newaxis], y)\n",
    "    print('b_0='+str(lr.intercept_)+' et b_1='+str(lr.coef_[0]) + ' et s2='+str(s2(y, lr.predict(x[:, np.newaxis]))))\n",
    "    return\n",
    "\n",
    "for i in range(5):\n",
    "    print_score(outl=True)   \n",
    "\n",
    "for i in range(5):\n",
    "    print_score(outl=False)\n",
    "\n",
    "# On voit que l'écart type s2 diminue sans outlier et que les coefficients b_0 et b_1 sont plus stables\n",
    "\n",
    "\n"
   ]
  },
  {
   "cell_type": "markdown",
   "metadata": {},
   "source": [
    "La variance estimée du bruit est beaucoup plus grande avec une donnée aberrante.\n",
    "La donnée aberrante introiduit un biais dans l'estimation des statistiques b_0 et b_1."
   ]
  },
  {
   "cell_type": "markdown",
   "metadata": {},
   "source": [
    "\n",
    "### <span style=\"color:blue\">QUESTIONS 4.2 :</span> \n",
    "\n",
    "#### <span style=\"color:blue\">QUESTION 4.2.a :</span> \n",
    "Pour chaque variable i, calculez les profils des résidus $e_{(i)j}=y_j - \\hat{y_{(i)j}}$ pour tous les j, où  $\\hat{y_{(i)j}}$ est l'estimation de y_j à partir d'un modele  linéaire appris sans l'observation i.\n",
    "#### <span style=\"color:blue\">QUESTION 4.2.b :</span> \n",
    "En quoi le profil des $e_{(i)j}$ est différent pour i=9 que pour les autres i\n",
    "#### <span style=\"color:blue\">QUESTION 4.2.c :</span> \n",
    "Etendre ces calculs pour définir la distance de Cook de chaque variable i\n",
    "\n",
    "AIDE : pour enlever un élement 'i' de 'x' ou 'y', utiliser x_del_i=np.delete(x,i) et y_del_i=np.delete(y,i) \n"
   ]
  },
  {
   "cell_type": "code",
   "execution_count": 70,
   "metadata": {},
   "outputs": [
    {
     "name": "stdout",
     "output_type": "stream",
     "text": [
      "residu de l'observation 0 = 8.616885942740318\n",
      "residu de l'observation 1 = -2.9882803132088416\n",
      "residu de l'observation 2 = 2.9642664086749697\n",
      "residu de l'observation 3 = -2.8556963464798777\n",
      "residu de l'observation 4 = 0.9247635072013836\n",
      "residu de l'observation 5 = -2.6186581082117897\n",
      "residu de l'observation 6 = -1.4384726946467197\n",
      "residu de l'observation 7 = -11.7000609713007\n",
      "residu de l'observation 8 = -8.839852018764809\n",
      "residu de l'observation 9 = 24.011014173496733\n"
     ]
    }
   ],
   "source": [
    "x, y = generate_data(n_samples=10, outlier=True)\n",
    "\n",
    "def res_i(x,y,i):\n",
    "    x_ni = np.delete(x, i)\n",
    "    y_ni = np.delete(y, i)\n",
    "    lr.fit(x_ni[:, np.newaxis], y_ni)\n",
    "    y_pred = lr.predict(x[:, np.newaxis])\n",
    "    return y[i] - y_pred[i]\n",
    "\n",
    "for i in range(len(x)):\n",
    "    print('residu de l\\'observation '+str(i)+' = '+str(res_i(x,y,i)))\n",
    "\n",
    "# 4.2.b On voit que le résidu de l'outlier est très grand (en valeur absolue) par rapport aux autres résidus"
   ]
  },
  {
   "cell_type": "markdown",
   "metadata": {},
   "source": [
    "#### <span style=\"color:blue\">REPONSE 4.2.a :</span> \n"
   ]
  },
  {
   "cell_type": "markdown",
   "metadata": {},
   "source": [
    "#### <span style=\"color:blue\">REPONSE 4.2.b :</span> \n",
    "\n",
    "Le profil résiduel de la donnée aberrante est toujours plus grand que les autres, en particulier lorsqu'on ôte la donnée de la base d'apprentissage."
   ]
  },
  {
   "cell_type": "code",
   "execution_count": 77,
   "metadata": {},
   "outputs": [
    {
     "name": "stdout",
     "output_type": "stream",
     "text": [
      "Cook de l'observation 0 = 0.26176537630173596\n",
      "Cook de l'observation 1 = 0.022644523239607577\n",
      "Cook de l'observation 2 = 0.015760468393817194\n",
      "Cook de l'observation 3 = 0.010592049553206879\n",
      "Cook de l'observation 4 = 0.0008991806354822244\n",
      "Cook de l'observation 5 = 0.007210131408581447\n",
      "Cook de l'observation 6 = 0.002687566363188039\n",
      "Cook de l'observation 7 = 0.24553358509397347\n",
      "Cook de l'observation 8 = 0.19815749513829073\n",
      "Cook de l'observation 9 = 2.0325092053079503\n"
     ]
    },
    {
     "data": {
      "text/plain": [
       "[<matplotlib.lines.Line2D at 0x735f47137950>]"
      ]
     },
     "execution_count": 77,
     "metadata": {},
     "output_type": "execute_result"
    },
    {
     "data": {
      "image/png": "[encoded data removed]",
      "text/plain": [
       "<Figure size 640x480 with 1 Axes>"
      ]
     },
     "metadata": {},
     "output_type": "display_data"
    }
   ],
   "source": [
    "lri = LinearRegression()\n",
    "\n",
    "def cook(x, y, i):\n",
    "    x_ni = np.delete(x, i)\n",
    "    y_ni = np.delete(y, i)\n",
    "    lr.fit(x[:, np.newaxis], y)\n",
    "    lri.fit(x_ni[:, np.newaxis], y_ni)\n",
    "    y_pred = lr.predict(x[:, np.newaxis])\n",
    "    y_predi = lri.predict(x[:, np.newaxis])\n",
    "    Di = np.sum((y_pred - y_predi)**2)/(2*s2(y, y_pred))\n",
    "    return Di\n",
    "\n",
    "Cook = np.zeros(len(x))\n",
    "\n",
    "for i in range(len(x)):\n",
    "    Cook[i] = cook(x, y, i)\n",
    "    print('Cook de l\\'observation '+str(i)+' = '+str(Cook[i]))\n",
    "\n",
    "plt.plot(Cook)"
   ]
  },
  {
   "cell_type": "markdown",
   "metadata": {},
   "source": [
    "#### <span style=\"color:blue\">REPONSE 4.2.c :</span> \n"
   ]
  },
  {
   "cell_type": "code",
   "execution_count": null,
   "metadata": {},
   "outputs": [],
   "source": [
    "..."
   ]
  },
  {
   "cell_type": "markdown",
   "metadata": {},
   "source": [
    "## Question Bonus"
   ]
  },
  {
   "cell_type": "markdown",
   "metadata": {},
   "source": [
    "Pour un jeu de données de 20 observations obtenues avec un coefficient directeur $\\beta_1$ de $0.2$, faire un test d'hypothèse pour vérifier que les données sont corrélées avec une confiance de 95%. "
   ]
  },
  {
   "cell_type": "markdown",
   "metadata": {},
   "source": [
    "On rappelle que sous les hypothèses suivantes : \n",
    " * $\\mathbb{E}[\\epsilon_i] = 0$,\n",
    " * $\\mathbb{V}[\\epsilon_i] = \\sigma^2$,\n",
    " * $\\forall i \\neq j, \\: Cov(\\epsilon_i, \\epsilon_j) = 0$,\n",
    " \n",
    "on a : \n",
    "\n",
    "* $\\mathbb{E}[\\hat{\\beta_0}] = \\beta_0$,\n",
    "* $\\mathbb{E}[\\hat{\\beta_1}] = \\beta_1$,\n",
    "* $\\mathbb{V}[\\hat{\\beta_0}] = \\sigma^2(\\frac{1}{n} + \\frac{\\bar{x_n}^2}{\\sum_{i=1}^n (x_i - \\bar{x_n})^2})$,\n",
    "* $\\mathbb{V}[\\hat{\\beta_1}] = \\frac{\\sigma^2}{\\sum_{i=1}^n (x_i - \\bar{x_n})^2}$\n",
    "\n",
    "En faisant l'hypothèse supplémentaire que les erreurs suivent une loi normale, $\\epsilon_i \\sim \\mathcal{N}(0, \\sigma^2)$, on a :\n",
    "\n",
    "* $\\hat{\\beta_1} \\sim \\mathcal{N}(\\beta_1, \\frac{\\sigma^2}{\\sum_{i=1}^n (x_i - \\bar{x_n})^2})$,\n",
    "* $\\frac{(n-2) \\cdot s^2}{\\sigma^2} \\sim \\mathcal{X}^2(n-2)$,\n",
    "* $\\hat{\\beta_1}$ et $s^2$ indépendants,\n",
    "\n",
    "où $s^2 = \\frac{\\sum_{i=1}^n \\hat{\\epsilon_i}^2}{n-2}$ est un estimateur non biaisé de $\\sigma^2$.\n",
    "\n",
    "On peut en déduire que:\n",
    "\n",
    "$$ \\frac{ \\frac{ \\hat{\\beta_1}-\\beta_1}{\\sqrt{\\frac{\\sigma^2}{\\sum_{i=1}^n (x_i - \\bar{x_n})^2}}}}{\\sqrt{\\frac{\\frac{(n-2)s^2}{\\sigma^2}}{n-2}}} = \\frac{\\hat{\\beta_1}-\\beta_1}{\\frac{s}{\\sqrt{\\sum_{i=1}^n (x_i - \\bar{x_n})^2}}} = T_n \\sim T(n-2)$$ \n",
    "\n",
    "où $T(n-2)$ désigne la loi de Student à $n-2$ degrés de liberté, d'espérance nulle si $n-2 > 1$.\n",
    "\n",
    "Tester l'hypothèse H_0 : $\\beta_1 = 0$ en prenant un risque de 5%. "
   ]
  },
  {
   "cell_type": "code",
   "execution_count": null,
   "metadata": {},
   "outputs": [],
   "source": [
    "from scipy.stats import t\n",
    "\n",
    "\n",
    "..."
   ]
  },
  {
   "cell_type": "code",
   "execution_count": 79,
   "metadata": {},
   "outputs": [
    {
     "name": "stderr",
     "output_type": "stream",
     "text": [
      "<>:1: SyntaxWarning: invalid escape sequence '\\h'\n",
      "<>:1: SyntaxWarning: invalid escape sequence '\\h'\n",
      "/tmp/ipykernel_166470/3712520270.py:1: SyntaxWarning: invalid escape sequence '\\h'\n",
      "  print(\"\\hat{y}\")\n"
     ]
    },
    {
     "ename": "SyntaxError",
     "evalue": "invalid syntax (3712520270.py, line 2)",
     "output_type": "error",
     "traceback": [
      "  \u001b[36mCell\u001b[39m\u001b[36m \u001b[39m\u001b[32mIn[79]\u001b[39m\u001b[32m, line 2\u001b[39m\n\u001b[31m    \u001b[39m\u001b[31m$\\hat{y}$\u001b[39m\n    ^\n\u001b[31mSyntaxError\u001b[39m\u001b[31m:\u001b[39m invalid syntax\n"
     ]
    }
   ],
   "source": [
    "print(\"\\hat{y}\")\n",
    "$\\hat{y}$\n"
   ]
  },
  {
   "cell_type": "code",
   "execution_count": null,
   "metadata": {},
   "outputs": [
    {
     "name": "stdout",
     "output_type": "stream",
     "text": [
      "Collecting jupyterlab-mathjax3\n",
      "  Downloading jupyterlab_mathjax3-4.3.0-py3-none-any.whl.metadata (2.8 kB)\n",
      "Downloading jupyterlab_mathjax3-4.3.0-py3-none-any.whl (1.1 MB)\n",
      "\u001b[2K   \u001b[90m━━━━━━━━━━━━━━━━━━━━━━━━━━━━━━━━━━━━━━━━\u001b[0m \u001b[32m1.1/1.1 MB\u001b[0m \u001b[31m7.3 MB/s\u001b[0m  \u001b[33m0:00:00\u001b[0m\n",
      "\u001b[?25hInstalling collected packages: jupyterlab-mathjax3\n",
      "Successfully installed jupyterlab-mathjax3-4.3.0\n",
      "Note: you may need to restart the kernel to use updated packages.\n"
     ]
    }
   ],
   "source": []
  },
  {
   "cell_type": "code",
   "execution_count": null,
   "metadata": {},
   "outputs": [],
   "source": []
  }
 ],
 "metadata": {
  "anaconda-cloud": {},
  "kernelspec": {
   "display_name": "myenv",
   "language": "python",
   "name": "python3"
  },
  "language_info": {
   "codemirror_mode": {
    "name": "ipython",
    "version": 3
   },
   "file_extension": ".py",
   "mimetype": "text/x-python",
   "name": "python",
   "nbconvert_exporter": "python",
   "pygments_lexer": "ipython3",
   "version": "3.12.11"
  }
 },
 "nbformat": 4,
 "nbformat_minor": 4
}
